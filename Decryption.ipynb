{
 "cells": [
  {
   "cell_type": "code",
   "execution_count": 6,
   "id": "c7446938-436f-4ccb-a8c0-947622f5699d",
   "metadata": {},
   "outputs": [
    {
     "name": "stdin",
     "output_type": "stream",
     "text": [
      "Enter the path of the Encrypted File: \"D:/output2.wav\"\n",
      "Enter the password:  ········\n"
     ]
    },
    {
     "name": "stdout",
     "output_type": "stream",
     "text": [
      "Decrypted data: Luffy\n",
      "Extracted data: Luffy\n"
     ]
    }
   ],
   "source": [
    "import wave\n",
    "import base64\n",
    "from cryptography.fernet import Fernet, InvalidToken\n",
    "from cryptography.hazmat.primitives import hashes\n",
    "from cryptography.hazmat.primitives.kdf.pbkdf2 import PBKDF2HMAC\n",
    "import os\n",
    "import getpass\n",
    "\n",
    "SALT = b'fixed_salt_here'  # Use the same fixed salt as in the encryption code\n",
    "\n",
    "def generate_key(password):\n",
    "    kdf = PBKDF2HMAC(\n",
    "        algorithm=hashes.SHA256(),\n",
    "        length=32,\n",
    "        salt=SALT,\n",
    "        iterations=100000,\n",
    "    )\n",
    "    key = base64.urlsafe_b64encode(kdf.derive(password.encode()))\n",
    "    return key\n",
    "\n",
    "def extract_data(audio_file, password):\n",
    "    try:\n",
    "        key = generate_key(password)\n",
    "        f = Fernet(key)\n",
    "        wav_file = wave.open(audio_file, 'rb')\n",
    "        if wav_file.getnchannels() != 1 or wav_file.getsampwidth() != 2 or wav_file.getframerate() != 44100:\n",
    "            raise ValueError('Invalid audio file format')\n",
    "        frames = wav_file.readframes(wav_file.getnframes())\n",
    "        binary_data = ''.join(format(frame & 0b00000001, '01b') for frame in frames)\n",
    "        data_bytes = bytes(int(binary_data[i:i+8], 2) for i in range(0, len(binary_data), 8))\n",
    "        try:\n",
    "            decrypted_data = f.decrypt(data_bytes).decode()\n",
    "            print(f'Decrypted data: {decrypted_data}')  # Debug print\n",
    "            return decrypted_data\n",
    "        except InvalidToken:\n",
    "            raise ValueError('Invalid data')\n",
    "    except wave.Error as e:\n",
    "        print(f'Error: {e}')\n",
    "    except ValueError as e:\n",
    "        print(f'Error: {e}')\n",
    "    except Exception as e:\n",
    "        print(f'Error: {e}')\n",
    "    return None\n",
    "\n",
    "def main():\n",
    "    audio_file = input(\"Enter the path of the Encrypted File:\")\n",
    "    if audio_file[0] == \"\\\"\":\n",
    "        audio_file = audio_file[1:-1]\n",
    "    password = getpass.getpass('Enter the password: ')\n",
    "    data = extract_data(audio_file, password)\n",
    "    if data:\n",
    "        print('Extracted data:', data)\n",
    "\n",
    "if __name__ == '__main__':\n",
    "    main()"
   ]
  },
  {
   "cell_type": "code",
   "execution_count": null,
   "id": "0263113f-6108-456b-8f21-712d73e019ae",
   "metadata": {},
   "outputs": [],
   "source": []
  }
 ],
 "metadata": {
  "kernelspec": {
   "display_name": "Python 3 (ipykernel)",
   "language": "python",
   "name": "python3"
  },
  "language_info": {
   "codemirror_mode": {
    "name": "ipython",
    "version": 3
   },
   "file_extension": ".py",
   "mimetype": "text/x-python",
   "name": "python",
   "nbconvert_exporter": "python",
   "pygments_lexer": "ipython3",
   "version": "3.10.14"
  }
 },
 "nbformat": 4,
 "nbformat_minor": 5
}
